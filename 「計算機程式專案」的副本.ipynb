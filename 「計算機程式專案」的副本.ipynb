{
  "nbformat": 4,
  "nbformat_minor": 0,
  "metadata": {
    "colab": {
      "name": "「計算機程式專案」的副本",
      "provenance": [],
      "collapsed_sections": [],
      "toc_visible": true
    },
    "kernelspec": {
      "name": "python3",
      "display_name": "Python 3"
    },
    "accelerator": "GPU"
  },
  "cells": [
    {
      "cell_type": "markdown",
      "metadata": {
        "id": "GWmrZyy0Ho0g"
      },
      "source": [
        "\n",
        "#計算機概論期末報告\n",
        "\n",
        "\n",
        "> 計算機概論期末專案：真假新聞判斷 # (部分程式碼參考別人)\n",
        "\n",
        "\n",
        "\n"
      ]
    },
    {
      "cell_type": "markdown",
      "metadata": {
        "id": "BwtqROtCH_fW"
      },
      "source": [
        "    原資料取自於 Kaggle : Fake and real news datasets\n",
        "    https://www.kaggle.com/clmentbisaillon/fake-and-real-news-dataset\n",
        "    下面將由雲端導入資料庫"
      ]
    },
    {
      "cell_type": "code",
      "metadata": {
        "id": "KTAr5atQWEr1",
        "colab": {
          "base_uri": "https://localhost:8080/"
        },
        "outputId": "0b932e6c-57ac-4349-ea1d-7c91e023c669"
      },
      "source": [
        "from google.colab import drive\n",
        "drive.mount('/content/drive')"
      ],
      "execution_count": null,
      "outputs": [
        {
          "output_type": "stream",
          "text": [
            "Mounted at /content/drive\n"
          ],
          "name": "stdout"
        }
      ]
    },
    {
      "cell_type": "code",
      "metadata": {
        "id": "XXW3JsrHkimD"
      },
      "source": [
        "%matplotlib inline\n",
        "#import the modle\n",
        "import matplotlib.pyplot as plt\n",
        "import numpy as np\n",
        "import pandas as pd\n",
        "import tensorflow.keras\n",
        "import nltk\n",
        "import sklearn\n",
        "import seaborn as sns\n",
        "from sklearn.utils import shuffle\n",
        "from sklearn.model_selection import train_test_split\n",
        "from nltk.tokenize import word_tokenize\n",
        "from matplotlib.font_manager import FontProperties\n",
        "from tensorflow.keras.utils import to_categorical\n",
        "from tensorflow.keras.preprocessing import sequence\n",
        "from tensorflow.keras.models import Sequential\n",
        "from tensorflow.keras.layers import Dense, Embedding, LSTM, Conv2D, MaxPooling2D, Flatten\n",
        "from tensorflow.keras.optimizers import SGD"
      ],
      "execution_count": null,
      "outputs": []
    },
    {
      "cell_type": "code",
      "metadata": {
        "id": "E8RDKRzhtSQb",
        "colab": {
          "base_uri": "https://localhost:8080/"
        },
        "outputId": "48a5757a-1f54-4ac1-f992-a06ccb12db5c"
      },
      "source": [
        "!pip install nltk\n",
        "nltk.download('punkt')"
      ],
      "execution_count": null,
      "outputs": [
        {
          "output_type": "stream",
          "text": [
            "Requirement already satisfied: nltk in /usr/local/lib/python3.6/dist-packages (3.2.5)\n",
            "Requirement already satisfied: six in /usr/local/lib/python3.6/dist-packages (from nltk) (1.15.0)\n",
            "[nltk_data] Downloading package punkt to /root/nltk_data...\n",
            "[nltk_data]   Unzipping tokenizers/punkt.zip.\n"
          ],
          "name": "stdout"
        },
        {
          "output_type": "execute_result",
          "data": {
            "text/plain": [
              "True"
            ]
          },
          "metadata": {
            "tags": []
          },
          "execution_count": 3
        }
      ]
    },
    {
      "cell_type": "markdown",
      "metadata": {
        "id": "vXb9Ibs3YRKr"
      },
      "source": [
        "    下面是這次專案的流程圖(flow chart)，由於還沒有找到辦法將 google drive 的圖檔呈現出來，所以就先用程式叫出來。"
      ]
    },
    {
      "cell_type": "code",
      "metadata": {
        "id": "M2VRhjbNWeKf",
        "colab": {
          "base_uri": "https://localhost:8080/",
          "height": 165
        },
        "outputId": "ea3ae265-3859-47b9-f0ee-9c9a3e8e68c3"
      },
      "source": [
        "from scipy import misc\n",
        "import matplotlib.image as mpimg\n",
        "\n",
        "img = mpimg.imread('/content/drive/My Drive/Colab Notebooks/資料流程圖.png')\n",
        "plt.imshow(img)\n",
        "img.shape\n",
        "plt.axis('off')\n",
        "plt.show()"
      ],
      "execution_count": null,
      "outputs": [
        {
          "output_type": "display_data",
          "data": {
            "image/png": "[encoded data removed]",
            "text/plain": [
              "<Figure size 432x288 with 1 Axes>"
            ]
          },
          "metadata": {
            "tags": [],
            "needs_background": "light"
          }
        }
      ]
    },
    {
      "cell_type": "markdown",
      "metadata": {
        "id": "ppXY_6Y9IekZ"
      },
      "source": [
        "    讀取資料，分成\"false(假新聞)\"&\"true(真新聞)\""
      ]
    },
    {
      "cell_type": "code",
      "metadata": {
        "id": "IvhdBIUfkohQ"
      },
      "source": [
        "false = pd.read_csv('/content/drive/My Drive/datasets/Fake.csv')\n",
        "true = pd.read_csv('/content/drive/My Drive/datasets/True.csv')"
      ],
      "execution_count": null,
      "outputs": []
    },
    {
      "cell_type": "markdown",
      "metadata": {
        "id": "1oJco_f6oj7U"
      },
      "source": [
        "# 觀察資料\n"
      ]
    },
    {
      "cell_type": "code",
      "metadata": {
        "id": "kvJvKHq-oizK",
        "colab": {
          "base_uri": "https://localhost:8080/",
          "height": 195
        },
        "outputId": "94624e91-0b43-4bbb-fd9f-f9ce47f4990a"
      },
      "source": [
        "true.head() "
      ],
      "execution_count": null,
      "outputs": [
        {
          "output_type": "execute_result",
          "data": {
            "text/html": [
              "<div>\n",
              "<style scoped>\n",
              "    .dataframe tbody tr th:only-of-type {\n",
              "        vertical-align: middle;\n",
              "    }\n",
              "\n",
              "    .dataframe tbody tr th {\n",
              "        vertical-align: top;\n",
              "    }\n",
              "\n",
              "    .dataframe thead th {\n",
              "        text-align: right;\n",
              "    }\n",
              "</style>\n",
              "<table border=\"1\" class=\"dataframe\">\n",
              "  <thead>\n",
              "    <tr style=\"text-align: right;\">\n",
              "      <th></th>\n",
              "      <th>title</th>\n",
              "      <th>text</th>\n",
              "      <th>subject</th>\n",
              "      <th>date</th>\n",
              "    </tr>\n",
              "  </thead>\n",
              "  <tbody>\n",
              "    <tr>\n",
              "      <th>0</th>\n",
              "      <td>As U.S. budget fight looms, Republicans flip t...</td>\n",
              "      <td>WASHINGTON (Reuters) - The head of a conservat...</td>\n",
              "      <td>politicsNews</td>\n",
              "      <td>December 31, 2017</td>\n",
              "    </tr>\n",
              "    <tr>\n",
              "      <th>1</th>\n",
              "      <td>U.S. military to accept transgender recruits o...</td>\n",
              "      <td>WASHINGTON (Reuters) - Transgender people will...</td>\n",
              "      <td>politicsNews</td>\n",
              "      <td>December 29, 2017</td>\n",
              "    </tr>\n",
              "    <tr>\n",
              "      <th>2</th>\n",
              "      <td>Senior U.S. Republican senator: 'Let Mr. Muell...</td>\n",
              "      <td>WASHINGTON (Reuters) - The special counsel inv...</td>\n",
              "      <td>politicsNews</td>\n",
              "      <td>December 31, 2017</td>\n",
              "    </tr>\n",
              "    <tr>\n",
              "      <th>3</th>\n",
              "      <td>FBI Russia probe helped by Australian diplomat...</td>\n",
              "      <td>WASHINGTON (Reuters) - Trump campaign adviser ...</td>\n",
              "      <td>politicsNews</td>\n",
              "      <td>December 30, 2017</td>\n",
              "    </tr>\n",
              "    <tr>\n",
              "      <th>4</th>\n",
              "      <td>Trump wants Postal Service to charge 'much mor...</td>\n",
              "      <td>SEATTLE/WASHINGTON (Reuters) - President Donal...</td>\n",
              "      <td>politicsNews</td>\n",
              "      <td>December 29, 2017</td>\n",
              "    </tr>\n",
              "  </tbody>\n",
              "</table>\n",
              "</div>"
            ],
            "text/plain": [
              "                                               title  ...                date\n",
              "0  As U.S. budget fight looms, Republicans flip t...  ...  December 31, 2017 \n",
              "1  U.S. military to accept transgender recruits o...  ...  December 29, 2017 \n",
              "2  Senior U.S. Republican senator: 'Let Mr. Muell...  ...  December 31, 2017 \n",
              "3  FBI Russia probe helped by Australian diplomat...  ...  December 30, 2017 \n",
              "4  Trump wants Postal Service to charge 'much mor...  ...  December 29, 2017 \n",
              "\n",
              "[5 rows x 4 columns]"
            ]
          },
          "metadata": {
            "tags": []
          },
          "execution_count": 14
        }
      ]
    },
    {
      "cell_type": "code",
      "metadata": {
        "id": "hUi68eQDlA8x",
        "colab": {
          "base_uri": "https://localhost:8080/",
          "height": 34
        },
        "outputId": "ae5a3131-58d6-48a1-fc50-7a9142e2e82e"
      },
      "source": [
        "true.shape"
      ],
      "execution_count": null,
      "outputs": [
        {
          "output_type": "execute_result",
          "data": {
            "text/plain": [
              "(21417, 4)"
            ]
          },
          "metadata": {
            "tags": []
          },
          "execution_count": 15
        }
      ]
    },
    {
      "cell_type": "code",
      "metadata": {
        "id": "4EBDA4mImSRr",
        "colab": {
          "base_uri": "https://localhost:8080/",
          "height": 34
        },
        "outputId": "35b20835-8a35-48b6-d335-6fc74a2adec7"
      },
      "source": [
        "false.shape"
      ],
      "execution_count": null,
      "outputs": [
        {
          "output_type": "execute_result",
          "data": {
            "text/plain": [
              "(23481, 4)"
            ]
          },
          "metadata": {
            "tags": []
          },
          "execution_count": 16
        }
      ]
    },
    {
      "cell_type": "markdown",
      "metadata": {
        "id": "qNgMXX6vo7ui"
      },
      "source": [
        "    True & Fake 的資料數分別為 21417 筆和 23481 筆，都有 4 種屬性，分別為 : 標題(title) / 內文(text) / 類別(subject) / 日期(date);\n",
        "    而資料比例約為 48 : 52，是很平均的資料數據集\n",
        "    再來確認是否有缺失值"
      ]
    },
    {
      "cell_type": "code",
      "metadata": {
        "id": "BWC0CVvYpBHy",
        "colab": {
          "base_uri": "https://localhost:8080/",
          "height": 101
        },
        "outputId": "0d28744d-a70e-4b3c-9bdf-710c0f037486"
      },
      "source": [
        "true.isnull().any()"
      ],
      "execution_count": null,
      "outputs": [
        {
          "output_type": "execute_result",
          "data": {
            "text/plain": [
              "title      False\n",
              "text       False\n",
              "subject    False\n",
              "date       False\n",
              "dtype: bool"
            ]
          },
          "metadata": {
            "tags": []
          },
          "execution_count": 17
        }
      ]
    },
    {
      "cell_type": "code",
      "metadata": {
        "id": "UYXGgChFqJTw",
        "colab": {
          "base_uri": "https://localhost:8080/",
          "height": 101
        },
        "outputId": "41d29517-6ac3-48ef-8cd6-6a4af03ce519"
      },
      "source": [
        "false.isnull().any()"
      ],
      "execution_count": null,
      "outputs": [
        {
          "output_type": "execute_result",
          "data": {
            "text/plain": [
              "title      False\n",
              "text       False\n",
              "subject    False\n",
              "date       False\n",
              "dtype: bool"
            ]
          },
          "metadata": {
            "tags": []
          },
          "execution_count": 18
        }
      ]
    },
    {
      "cell_type": "markdown",
      "metadata": {
        "id": "5h2eBcyemsgT"
      },
      "source": [
        "    先合併資料來觀看資料有哪些種類"
      ]
    },
    {
      "cell_type": "code",
      "metadata": {
        "id": "xbOYEcKtnsAi"
      },
      "source": [
        "data = pd.concat([true, false])"
      ],
      "execution_count": null,
      "outputs": []
    },
    {
      "cell_type": "code",
      "metadata": {
        "id": "aB_09gv7mysG",
        "colab": {
          "base_uri": "https://localhost:8080/",
          "height": 398
        },
        "outputId": "8cb0cdbe-090e-4619-b62e-62340d0cf4ea"
      },
      "source": [
        "categories = pd.DataFrame(data['subject'].value_counts())\n",
        "categories = categories.reset_index()\n",
        "\n",
        "plt.figure(figsize=(15,6))    # 顯示圖框架大小\n",
        "\n",
        "labels = categories['index']      # 製作圓餅圖的類別標籤\n",
        "size = categories['subject']      # 製作圓餅圖的數值來源\n",
        "\n",
        "plt.pie(size,                           # 數值\n",
        "        labels = labels,                # 標籤\n",
        "        autopct = \"%1.1f%%\",            # 將數值以百分比表示並留到小數點一位\n",
        "        pctdistance = 0.6,              # 數字距圓心的距離\n",
        "        textprops = {\"fontsize\" : 12},  # 文字大小\n",
        "        shadow=True)                    # 設定陰影\n",
        "\n",
        " \n",
        "plt.axis('equal')                                          # 使圓餅圖比例相等\n",
        "plt.title(\"Pie chart of news\", {\"fontsize\" : 15})          # 設定標題及其文字大小\n",
        "plt.legend(loc = \"best\")                                   # 設定圖例及其位置為最佳"
      ],
      "execution_count": null,
      "outputs": [
        {
          "output_type": "execute_result",
          "data": {
            "text/plain": [
              "<matplotlib.legend.Legend at 0x7f2330173d68>"
            ]
          },
          "metadata": {
            "tags": []
          },
          "execution_count": 20
        },
        {
          "output_type": "display_data",
          "data": {
            "image/png": "[encoded data removed]",
            "text/plain": [
              "<Figure size 1080x432 with 1 Axes>"
            ]
          },
          "metadata": {
            "tags": []
          }
        }
      ]
    },
    {
      "cell_type": "code",
      "metadata": {
        "id": "Hdr0utOyn7Sl",
        "colab": {
          "base_uri": "https://localhost:8080/",
          "height": 335
        },
        "outputId": "56fbd617-4077-4cab-cb17-16e8d89449d4"
      },
      "source": [
        "plt.figure(figsize=(15,5))\n",
        "sns.countplot(\"subject\", data=data)\n",
        "plt.show()"
      ],
      "execution_count": null,
      "outputs": [
        {
          "output_type": "display_data",
          "data": {
            "image/png": "[encoded data removed]",
            "text/plain": [
              "<Figure size 1080x360 with 1 Axes>"
            ]
          },
          "metadata": {
            "tags": [],
            "needs_background": "light"
          }
        }
      ]
    },
    {
      "cell_type": "markdown",
      "metadata": {
        "id": "MXi7m8QjobTL"
      },
      "source": [
        "    在這個 kaggle 的資料集裡，為數較多的依序是政治、世界新聞、美國本土新聞、政府新聞....還有為數不多的中東新聞。\n",
        "    其中政治新聞被分成兩個是因為在 true 和 false 的政治新聞有各自的標籤，所以被分開呈現。\n",
        "    整體而言，最最大量的就是\"政治新聞\"了。   "
      ]
    },
    {
      "cell_type": "markdown",
      "metadata": {
        "id": "a5YVaAbLqK_2"
      },
      "source": [
        "# 資料整理\n",
        "    1. 將 ture & false 各新增一欄位作為標籤，表示該資料的真假。\n",
        "    2. 合併 true & false 資料集\n",
        "    3. 刪除 subject & date 屬性，因為較難運用這兩個資訊判斷新聞真假。\n",
        "    4. 隨機打亂資料集。\n",
        "    5. 處理標籤。\n",
        "    6. 資料集分成由\"標題\"和\"內文\"所組成的資料集(分別訓練，最後對比成效)。\n",
        "    7. 兩版本資料集分別建立各自的字典集。\n",
        "    8. zero-padding\n",
        "    9. 兩版資料集個別再劃分成\"訓練組(train set)\"和\"驗證組(validation set)\""
      ]
    },
    {
      "cell_type": "code",
      "metadata": {
        "id": "tMWTbnYmrsjy"
      },
      "source": [
        "# step.1 : 將 ture & false 各新增一欄位作為標籤，表示該資料的真假。\n",
        "\n",
        "true['label'] = 'true'\n",
        "false['label'] = 'false'"
      ],
      "execution_count": null,
      "outputs": []
    },
    {
      "cell_type": "code",
      "metadata": {
        "id": "DM_Uuc-Lr3_X"
      },
      "source": [
        "# step.2 : 合併 true & false 資料集\n",
        "\n",
        "data = pd.concat([true, false])"
      ],
      "execution_count": null,
      "outputs": []
    },
    {
      "cell_type": "code",
      "metadata": {
        "id": "JD_W3Q9hr5D-"
      },
      "source": [
        "# step.3\n",
        "# 先複製一個資料集，刪除複製資料集中的 subject & date 屬性\n",
        "\n",
        "data_copy = data.copy()\n",
        "data_copy = data_copy.drop(labels=['date'], axis='columns')"
      ],
      "execution_count": null,
      "outputs": []
    },
    {
      "cell_type": "code",
      "metadata": {
        "id": "7m478UFar_Ky"
      },
      "source": [
        "# step.4 : 隨機打亂資料集。\n",
        "\n",
        "data_copy = shuffle(data_copy, random_state=41)"
      ],
      "execution_count": null,
      "outputs": []
    },
    {
      "cell_type": "code",
      "metadata": {
        "id": "0_s0_ZaGsOEK"
      },
      "source": [
        "# step.5 處理標籤\n",
        "\n",
        "label_to_index = {'false':0, 'true':1}\n",
        "y = data_copy.label.apply(lambda x: label_to_index[x])\n",
        "y = np.asarray(y).astype('float32')\n",
        "y = tensorflow.keras.utils.to_categorical(y)"
      ],
      "execution_count": null,
      "outputs": []
    },
    {
      "cell_type": "markdown",
      "metadata": {
        "id": "CyBFFFr9sgww"
      },
      "source": [
        "    這裡將原本標籤欄位的\"true\"和\"false\"先用字典轉換成 1 和 0，再做 one-hot encoding。\n",
        "    由於標籤即答案，在這裡就先將資料集內的標籤欄轉換後，直接定義新變數 y 作為後面訓練用。"
      ]
    },
    {
      "cell_type": "code",
      "metadata": {
        "id": "QaHNbEYUtBeH"
      },
      "source": [
        "# step.6 分成\"標題(title)\"和\"內文(text)\"，兩個資料集\n",
        "\n",
        "data_title = data_copy.drop(labels=['text'], axis='columns')\n",
        "data_text = data_copy.drop(labels=['title'], axis='columns')"
      ],
      "execution_count": null,
      "outputs": []
    },
    {
      "cell_type": "markdown",
      "metadata": {
        "id": "hoH18GpPxVcp"
      },
      "source": [
        "## 文辭分本\n"
      ]
    },
    {
      "cell_type": "markdown",
      "metadata": {
        "id": "DNpsARikbMnH"
      },
      "source": [
        "### 字典分詞"
      ]
    },
    {
      "cell_type": "code",
      "metadata": {
        "id": "uw1pJoD1tEvo"
      },
      "source": [
        "# step.7\n",
        "\n",
        "data_title['title_tokenized'] = data_title.loc[:, 'title'].apply(word_tokenize)\n",
        "data_text['text_tokenized'] = data_text.loc[:, 'text'].apply(word_tokenize)\n",
        "\n",
        "# title dictionary\n",
        "MAX_NUM_WORDS_TITLE = 10000\n",
        "tokenizer_title = tensorflow.keras.preprocessing.text.Tokenizer(num_words=MAX_NUM_WORDS_TITLE)\n",
        "\n",
        "# text dictionary\n",
        "MAX_NUM_WORDS_TEXT = 20000\n",
        "tokenizer_text = tensorflow.keras.preprocessing.text.Tokenizer(num_words=MAX_NUM_WORDS_TEXT)"
      ],
      "execution_count": null,
      "outputs": []
    },
    {
      "cell_type": "markdown",
      "metadata": {
        "id": "8d7qjLfvtOJX"
      },
      "source": [
        "    這裡使用 Keras 模組內建的 Tokenizer() 來進行文辭分類。 \n",
        "    將兩個資料集(標題版和內文版)，個別新增一個欄位，放入已經將文辭切分完成的句子。\n",
        "    而這裡的設定，在\"標題版\"裡面是限制在 10000 個單字; 在\"內文版\"裡面是限制在 20000 個單字。"
      ]
    },
    {
      "cell_type": "code",
      "metadata": {
        "id": "g4iWOquBvJix",
        "colab": {
          "base_uri": "https://localhost:8080/",
          "height": 195
        },
        "outputId": "5a743648-0d21-4917-f263-705f6d5a9de7"
      },
      "source": [
        "data_title.head()"
      ],
      "execution_count": null,
      "outputs": [
        {
          "output_type": "execute_result",
          "data": {
            "text/html": [
              "<div>\n",
              "<style scoped>\n",
              "    .dataframe tbody tr th:only-of-type {\n",
              "        vertical-align: middle;\n",
              "    }\n",
              "\n",
              "    .dataframe tbody tr th {\n",
              "        vertical-align: top;\n",
              "    }\n",
              "\n",
              "    .dataframe thead th {\n",
              "        text-align: right;\n",
              "    }\n",
              "</style>\n",
              "<table border=\"1\" class=\"dataframe\">\n",
              "  <thead>\n",
              "    <tr style=\"text-align: right;\">\n",
              "      <th></th>\n",
              "      <th>title</th>\n",
              "      <th>subject</th>\n",
              "      <th>label</th>\n",
              "      <th>title_tokenized</th>\n",
              "    </tr>\n",
              "  </thead>\n",
              "  <tbody>\n",
              "    <tr>\n",
              "      <th>20489</th>\n",
              "      <td>LOL! The Woman Who Couldn’t Be Bothered With P...</td>\n",
              "      <td>left-news</td>\n",
              "      <td>false</td>\n",
              "      <td>[LOL, !, The, Woman, Who, Couldn, ’, t, Be, Bo...</td>\n",
              "    </tr>\n",
              "    <tr>\n",
              "      <th>19511</th>\n",
              "      <td>Trump urges 'strong and swift' U.N. action to ...</td>\n",
              "      <td>worldnews</td>\n",
              "      <td>true</td>\n",
              "      <td>[Trump, urges, 'strong, and, swift, ', U.N., a...</td>\n",
              "    </tr>\n",
              "    <tr>\n",
              "      <th>18484</th>\n",
              "      <td>JUST IN! SURPRISE GUEST Shows Up At Nationals ...</td>\n",
              "      <td>left-news</td>\n",
              "      <td>false</td>\n",
              "      <td>[JUST, IN, !, SURPRISE, GUEST, Shows, Up, At, ...</td>\n",
              "    </tr>\n",
              "    <tr>\n",
              "      <th>6714</th>\n",
              "      <td>Trump Has Meltdown Over Kasich And Cruz Joini...</td>\n",
              "      <td>News</td>\n",
              "      <td>false</td>\n",
              "      <td>[Trump, Has, Meltdown, Over, Kasich, And, Cruz...</td>\n",
              "    </tr>\n",
              "    <tr>\n",
              "      <th>12090</th>\n",
              "      <td>MUST WATCH! New VIDEO Emerges Of Hillary Leavi...</td>\n",
              "      <td>politics</td>\n",
              "      <td>false</td>\n",
              "      <td>[MUST, WATCH, !, New, VIDEO, Emerges, Of, Hill...</td>\n",
              "    </tr>\n",
              "  </tbody>\n",
              "</table>\n",
              "</div>"
            ],
            "text/plain": [
              "                                                   title  ...                                    title_tokenized\n",
              "20489  LOL! The Woman Who Couldn’t Be Bothered With P...  ...  [LOL, !, The, Woman, Who, Couldn, ’, t, Be, Bo...\n",
              "19511  Trump urges 'strong and swift' U.N. action to ...  ...  [Trump, urges, 'strong, and, swift, ', U.N., a...\n",
              "18484  JUST IN! SURPRISE GUEST Shows Up At Nationals ...  ...  [JUST, IN, !, SURPRISE, GUEST, Shows, Up, At, ...\n",
              "6714    Trump Has Meltdown Over Kasich And Cruz Joini...  ...  [Trump, Has, Meltdown, Over, Kasich, And, Cruz...\n",
              "12090  MUST WATCH! New VIDEO Emerges Of Hillary Leavi...  ...  [MUST, WATCH, !, New, VIDEO, Emerges, Of, Hill...\n",
              "\n",
              "[5 rows x 4 columns]"
            ]
          },
          "metadata": {
            "tags": []
          },
          "execution_count": 29
        }
      ]
    },
    {
      "cell_type": "code",
      "metadata": {
        "id": "bOPsBwl2vM6k"
      },
      "source": [
        "# title\n",
        "corpus_title = data_title.title_tokenized\n",
        "tokenizer_title.fit_on_texts(corpus_title)\n",
        "corpus_title_num = tokenizer_title.texts_to_sequences(corpus_title)\n",
        "\n",
        "# text\n",
        "corpus_text = data_text.text_tokenized\n",
        "tokenizer_text.fit_on_texts(corpus_text)\n",
        "corpus_text_num = tokenizer_text.texts_to_sequences(corpus_text)"
      ],
      "execution_count": null,
      "outputs": []
    },
    {
      "cell_type": "markdown",
      "metadata": {
        "id": "wpJbKOy9v3Ob"
      },
      "source": [
        "    取出剛剛新增欄位 title(text)_tokenized 經過 fit_on_texts() 方法建立字典;\n",
        "    再經過 texts_to_sequences() 轉換成數字序列"
      ]
    },
    {
      "cell_type": "code",
      "metadata": {
        "id": "_coN0JgWwBmb",
        "colab": {
          "base_uri": "https://localhost:8080/",
          "height": 34
        },
        "outputId": "54dbb55c-1311-43bf-e6f5-dc5b0d403501"
      },
      "source": [
        "corpus_title_num[1]"
      ],
      "execution_count": null,
      "outputs": [
        {
          "output_type": "execute_result",
          "data": {
            "text/plain": [
              "[2, 278, 6610, 22, 5361, 29, 153, 582, 1, 295, 479, 272]"
            ]
          },
          "metadata": {
            "tags": []
          },
          "execution_count": 31
        }
      ]
    },
    {
      "cell_type": "markdown",
      "metadata": {
        "id": "Q4SHKi6jxBCa"
      },
      "source": [
        "    上述就是原先第一則標題經由轉換後成的數字序列"
      ]
    },
    {
      "cell_type": "markdown",
      "metadata": {
        "id": "AZG9aVsjxNLd"
      },
      "source": [
        "### zero-padding"
      ]
    },
    {
      "cell_type": "code",
      "metadata": {
        "id": "svdGa58ExydF",
        "colab": {
          "base_uri": "https://localhost:8080/",
          "height": 34
        },
        "outputId": "2732adb9-2c9f-4c89-f02e-acdfedc5d408"
      },
      "source": [
        "# step.8\n",
        "# 先觀察全部 title (text) 最多的字數\n",
        "\n",
        "max_seq_len_title = max([len(seq) for seq in corpus_title_num])\n",
        "max_seq_len_text = max([len(seq) for seq in corpus_text_num])\n",
        "\n",
        "print(f'title 最多字數 : {max_seq_len_title} / text 最多字數 : {max_seq_len_text}')"
      ],
      "execution_count": null,
      "outputs": [
        {
          "output_type": "stream",
          "text": [
            "title 最多字數 : 51 / text 最多字數 : 8660\n"
          ],
          "name": "stdout"
        }
      ]
    },
    {
      "cell_type": "code",
      "metadata": {
        "id": "jQO6eqhYyBz5",
        "colab": {
          "base_uri": "https://localhost:8080/",
          "height": 34
        },
        "outputId": "84d43ce9-c270-49e0-e848-673a21d7bed7"
      },
      "source": [
        "# text 的平均字數\n",
        "\n",
        "mean_seq_len_text = np.mean([len(seq) for seq in corpus_text_num])\n",
        "mean_seq_len_text"
      ],
      "execution_count": null,
      "outputs": [
        {
          "output_type": "execute_result",
          "data": {
            "text/plain": [
              "438.68555392222373"
            ]
          },
          "metadata": {
            "tags": []
          },
          "execution_count": 33
        }
      ]
    },
    {
      "cell_type": "markdown",
      "metadata": {
        "id": "zlkXM85RyDaF"
      },
      "source": [
        "    由於內文版的文字數最多有8660個字，這裡先算看看平均內文長度再決定取多少字來做 zero-padding。"
      ]
    },
    {
      "cell_type": "code",
      "metadata": {
        "id": "Y4xUQX0ayYHp"
      },
      "source": [
        "MAX_SEQUENCE_LEN_TITLE = 16 # !! 下面解釋\n",
        "MAX_SEQUENCE_LEN_TEXT = 361\n",
        "\n",
        "corpus_title_num = tensorflow.keras.preprocessing.sequence.pad_sequences(corpus_title_num, maxlen=MAX_SEQUENCE_LEN_TITLE)\n",
        "corpus_text_num = tensorflow.keras.preprocessing.sequence.pad_sequences(corpus_text_num, maxlen=MAX_SEQUENCE_LEN_TEXT)"
      ],
      "execution_count": null,
      "outputs": []
    },
    {
      "cell_type": "markdown",
      "metadata": {
        "id": "_k_n6ZZMybi8"
      },
      "source": [
        "    最後標題版取25個字為限; 內文版取400個字為限。(原模型)\n",
        "    這裡取的都是平方數是為了後面訓練 CNN 時，可以將其變成一個方陣來訓練。"
      ]
    },
    {
      "cell_type": "markdown",
      "metadata": {
        "id": "OiyLCfPfdA_j"
      },
      "source": [
        "    !! 當初在訓練資料集的時候，用的是資料集本身的平均字數，但在訓練真實資料時，準確率卻很差。\n",
        "       嘗試改善準確率所以將模型的字數設定成真實資料集的平均字數 16 和 361。\n",
        "       雖然在真實應用時無法進行這種改變，但還是想確認是否能經由改變取樣字數來增進準確度。"
      ]
    },
    {
      "cell_type": "markdown",
      "metadata": {
        "id": "kERo5Kg6yzvU"
      },
      "source": [
        "## 分開訓練組和驗證組"
      ]
    },
    {
      "cell_type": "code",
      "metadata": {
        "id": "HTNCtfFoy_33"
      },
      "source": [
        "# step.9\n",
        "\n",
        "VALIDATION_RATIO = 0.2\n",
        "RANDOM_STATE = 9527\n",
        "\n",
        "title_x_train, title_x_val, y_train, y_val = train_test_split(corpus_title_num, y, test_size=VALIDATION_RATIO, random_state=RANDOM_STATE)\n",
        "text_x_train, text_x_val, y_train, y_val = train_test_split(corpus_text_num, y, test_size=VALIDATION_RATIO, random_state=RANDOM_STATE)"
      ],
      "execution_count": null,
      "outputs": []
    },
    {
      "cell_type": "code",
      "metadata": {
        "id": "rA_0Z_VPzBdu",
        "colab": {
          "base_uri": "https://localhost:8080/",
          "height": 185
        },
        "outputId": "170a4cb1-cfbf-4fcf-c66a-6a37a9e769d4"
      },
      "source": [
        "print(\"Training Set\")\n",
        "print('-'*20)\n",
        "print(f\"title_x_train: {title_x_train.shape}\")\n",
        "print(f\"text_x_train: {text_x_train.shape}\")\n",
        "print(f\"y_train: {y_train.shape}\")\n",
        "print('-'*20)\n",
        "print(f\"title_x_val: {title_x_val.shape}\")\n",
        "print(f\"text_x_val: {text_x_val.shape}\")\n",
        "print(f\"y_val: {y_val.shape}\")\n",
        "print('-'*20)"
      ],
      "execution_count": null,
      "outputs": [
        {
          "output_type": "stream",
          "text": [
            "Training Set\n",
            "--------------------\n",
            "title_x_train: (35918, 16)\n",
            "text_x_train: (35918, 361)\n",
            "y_train: (35918, 2)\n",
            "--------------------\n",
            "title_x_val: (8980, 16)\n",
            "text_x_val: (8980, 361)\n",
            "y_val: (8980, 2)\n",
            "--------------------\n"
          ],
          "name": "stdout"
        }
      ]
    },
    {
      "cell_type": "markdown",
      "metadata": {
        "id": "yAu-PtdZzMAF"
      },
      "source": [
        "    這裡將資料集分成 80% 的訓練組和 20% 的驗證組，各有 35918 / 8980 筆資料。\n",
        "    標題版的每筆資料裡面有16個Tokens / 內文版的每筆資料裡面有361個Tokens\n",
        "    分類結果有 2 種(True & False)"
      ]
    },
    {
      "cell_type": "markdown",
      "metadata": {
        "id": "o0EPuazczeZP"
      },
      "source": [
        "# 建立模型"
      ]
    },
    {
      "cell_type": "markdown",
      "metadata": {
        "id": "m4IQ0j2ozzUu"
      },
      "source": [
        "## RNN"
      ]
    },
    {
      "cell_type": "markdown",
      "metadata": {
        "id": "E1Ej98tX0MYv"
      },
      "source": [
        "#### Title Edition"
      ]
    },
    {
      "cell_type": "code",
      "metadata": {
        "id": "Fuolfs_A0O5P",
        "colab": {
          "base_uri": "https://localhost:8080/",
          "height": 322
        },
        "outputId": "0cacbb01-b397-4f97-ee56-249a539134f6"
      },
      "source": [
        "RNN_title = Sequential()\n",
        "RNN_title.add(Embedding(10000, 256))\n",
        "RNN_title.add(LSTM(64, dropout=0.1, recurrent_dropout=0.1))\n",
        "RNN_title.add(Dense(32, activation='relu'))\n",
        "RNN_title.add(Dense(2, activation='relu'))\n",
        "RNN_title.compile(loss='binary_crossentropy', optimizer='adam', metrics=['accuracy'])\n",
        "RNN_title.summary()"
      ],
      "execution_count": null,
      "outputs": [
        {
          "output_type": "stream",
          "text": [
            "WARNING:tensorflow:Layer lstm will not use cuDNN kernel since it doesn't meet the cuDNN kernel criteria. It will use generic GPU kernel as fallback when running on GPU\n",
            "Model: \"sequential\"\n",
            "_________________________________________________________________\n",
            "Layer (type)                 Output Shape              Param #   \n",
            "=================================================================\n",
            "embedding (Embedding)        (None, None, 256)         2560000   \n",
            "_________________________________________________________________\n",
            "lstm (LSTM)                  (None, 64)                82176     \n",
            "_________________________________________________________________\n",
            "dense (Dense)                (None, 32)                2080      \n",
            "_________________________________________________________________\n",
            "dense_1 (Dense)              (None, 2)                 66        \n",
            "=================================================================\n",
            "Total params: 2,644,322\n",
            "Trainable params: 2,644,322\n",
            "Non-trainable params: 0\n",
            "_________________________________________________________________\n"
          ],
          "name": "stdout"
        }
      ]
    },
    {
      "cell_type": "code",
      "metadata": {
        "id": "mTbJtRqe0Qxf",
        "colab": {
          "base_uri": "https://localhost:8080/",
          "height": 101
        },
        "outputId": "8bf1db6a-5ac0-4f3f-a1c5-830243b3a50e"
      },
      "source": [
        "RNN_title.fit(title_x_train, y_train, batch_size=30, epochs=2, validation_data=(title_x_val, y_val))"
      ],
      "execution_count": null,
      "outputs": [
        {
          "output_type": "stream",
          "text": [
            "Epoch 1/2\n",
            "1198/1198 [==============================] - 145s 121ms/step - loss: 0.1628 - accuracy: 0.9604 - val_loss: 0.0770 - val_accuracy: 0.9790\n",
            "Epoch 2/2\n",
            "1198/1198 [==============================] - 146s 121ms/step - loss: 0.0498 - accuracy: 0.9895 - val_loss: 0.0916 - val_accuracy: 0.9802\n"
          ],
          "name": "stdout"
        },
        {
          "output_type": "execute_result",
          "data": {
            "text/plain": [
              "<tensorflow.python.keras.callbacks.History at 0x7f22ed3b7b00>"
            ]
          },
          "metadata": {
            "tags": []
          },
          "execution_count": 38
        }
      ]
    },
    {
      "cell_type": "markdown",
      "metadata": {
        "id": "LLbmjvJI0VlL"
      },
      "source": [
        "#### Text Edition"
      ]
    },
    {
      "cell_type": "code",
      "metadata": {
        "id": "vzFwsE6L0Xih",
        "colab": {
          "base_uri": "https://localhost:8080/",
          "height": 322
        },
        "outputId": "e5d8f22d-082d-4a1f-a49b-e86f6eabebf8"
      },
      "source": [
        "RNN_text = Sequential()\n",
        "RNN_text.add(Embedding(20000, 256))\n",
        "RNN_text.add(LSTM(64, dropout=0.1, recurrent_dropout=0.1))\n",
        "RNN_text.add(Dense(32, activation='relu'))\n",
        "RNN_text.add(Dense(2, activation='relu'))\n",
        "RNN_text.compile(loss='binary_crossentropy', optimizer='adam', metrics=['accuracy'])\n",
        "RNN_text.summary()"
      ],
      "execution_count": null,
      "outputs": [
        {
          "output_type": "stream",
          "text": [
            "WARNING:tensorflow:Layer lstm_1 will not use cuDNN kernel since it doesn't meet the cuDNN kernel criteria. It will use generic GPU kernel as fallback when running on GPU\n",
            "Model: \"sequential_1\"\n",
            "_________________________________________________________________\n",
            "Layer (type)                 Output Shape              Param #   \n",
            "=================================================================\n",
            "embedding_1 (Embedding)      (None, None, 256)         5120000   \n",
            "_________________________________________________________________\n",
            "lstm_1 (LSTM)                (None, 64)                82176     \n",
            "_________________________________________________________________\n",
            "dense_2 (Dense)              (None, 32)                2080      \n",
            "_________________________________________________________________\n",
            "dense_3 (Dense)              (None, 2)                 66        \n",
            "=================================================================\n",
            "Total params: 5,204,322\n",
            "Trainable params: 5,204,322\n",
            "Non-trainable params: 0\n",
            "_________________________________________________________________\n"
          ],
          "name": "stdout"
        }
      ]
    },
    {
      "cell_type": "code",
      "metadata": {
        "id": "Jmk3JQrX0ZMr",
        "colab": {
          "base_uri": "https://localhost:8080/",
          "height": 101
        },
        "outputId": "1851a610-bbb0-4681-a627-ba3a554f244b"
      },
      "source": [
        "RNN_text.fit(text_x_train, y_train, batch_size=30, epochs=2, validation_data=(text_x_val, y_val))"
      ],
      "execution_count": null,
      "outputs": [
        {
          "output_type": "stream",
          "text": [
            "Epoch 1/2\n",
            "1198/1198 [==============================] - 2303s 2s/step - loss: 0.2171 - accuracy: 0.9612 - val_loss: 0.0942 - val_accuracy: 0.9785\n",
            "Epoch 2/2\n",
            "1198/1198 [==============================] - 2319s 2s/step - loss: 2.1821 - accuracy: 0.7571 - val_loss: 2.0867 - val_accuracy: 0.7688\n"
          ],
          "name": "stdout"
        },
        {
          "output_type": "execute_result",
          "data": {
            "text/plain": [
              "<tensorflow.python.keras.callbacks.History at 0x7f22ed25b470>"
            ]
          },
          "metadata": {
            "tags": []
          },
          "execution_count": 40
        }
      ]
    },
    {
      "cell_type": "markdown",
      "metadata": {
        "id": "gh3YHvU40bSI"
      },
      "source": [
        "## CNN"
      ]
    },
    {
      "cell_type": "markdown",
      "metadata": {
        "id": "o48-EZX-0cTR"
      },
      "source": [
        "#### Title Edition"
      ]
    },
    {
      "cell_type": "code",
      "metadata": {
        "id": "VBAFCYhe0ezN",
        "colab": {
          "base_uri": "https://localhost:8080/",
          "height": 386
        },
        "outputId": "ee8917a6-3b88-405c-8faa-651b2de44b32"
      },
      "source": [
        "title_x_train_cnn = title_x_train.reshape(len(title_x_train), 4, 4, 1)\n",
        "title_x_val_cnn = title_x_val.reshape(len(title_x_val), 4, 4, 1)\n",
        "\n",
        "title_x_train_cnn = title_x_train_cnn / MAX_NUM_WORDS_TITLE\n",
        "title_x_val_cnn = title_x_val_cnn / MAX_NUM_WORDS_TITLE\n",
        "\n",
        "CNN_title = Sequential()\n",
        "CNN_title.add(Conv2D(16, (3,3), padding='same', input_shape=(4, 4, 1), activation='relu'))\n",
        "CNN_title.add(MaxPooling2D(pool_size=(2,2)))\n",
        "CNN_title.add(Conv2D(8, (3,3), padding='same', activation='relu'))\n",
        "CNN_title.add(MaxPooling2D(pool_size=(2,2)))\n",
        "CNN_title.add(Flatten())\n",
        "CNN_title.add(Dense(64, activation='relu'))\n",
        "CNN_title.add(Dense(2, activation='softmax'))\n",
        "CNN_title.summary()"
      ],
      "execution_count": null,
      "outputs": [
        {
          "output_type": "stream",
          "text": [
            "Model: \"sequential_2\"\n",
            "_________________________________________________________________\n",
            "Layer (type)                 Output Shape              Param #   \n",
            "=================================================================\n",
            "conv2d (Conv2D)              (None, 4, 4, 16)          160       \n",
            "_________________________________________________________________\n",
            "max_pooling2d (MaxPooling2D) (None, 2, 2, 16)          0         \n",
            "_________________________________________________________________\n",
            "conv2d_1 (Conv2D)            (None, 2, 2, 8)           1160      \n",
            "_________________________________________________________________\n",
            "max_pooling2d_1 (MaxPooling2 (None, 1, 1, 8)           0         \n",
            "_________________________________________________________________\n",
            "flatten (Flatten)            (None, 8)                 0         \n",
            "_________________________________________________________________\n",
            "dense_4 (Dense)              (None, 64)                576       \n",
            "_________________________________________________________________\n",
            "dense_5 (Dense)              (None, 2)                 130       \n",
            "=================================================================\n",
            "Total params: 2,026\n",
            "Trainable params: 2,026\n",
            "Non-trainable params: 0\n",
            "_________________________________________________________________\n"
          ],
          "name": "stdout"
        }
      ]
    },
    {
      "cell_type": "code",
      "metadata": {
        "id": "ggQlqz0l0h6b",
        "colab": {
          "base_uri": "https://localhost:8080/",
          "height": 370
        },
        "outputId": "7e486c73-0b07-4c66-fa11-344947b47b1c"
      },
      "source": [
        "CNN_title.compile(loss='binary_crossentropy', optimizer='adam', metrics=['accuracy'])\n",
        "CNN_title.fit(title_x_train_cnn, y_train, batch_size=30, epochs=10, validation_data=(title_x_val_cnn, y_val))"
      ],
      "execution_count": null,
      "outputs": [
        {
          "output_type": "stream",
          "text": [
            "Epoch 1/10\n",
            "1198/1198 [==============================] - 5s 5ms/step - loss: 0.4845 - accuracy: 0.7774 - val_loss: 0.4526 - val_accuracy: 0.8027\n",
            "Epoch 2/10\n",
            "1198/1198 [==============================] - 5s 4ms/step - loss: 0.4188 - accuracy: 0.8217 - val_loss: 0.4215 - val_accuracy: 0.8163\n",
            "Epoch 3/10\n",
            "1198/1198 [==============================] - 5s 4ms/step - loss: 0.4043 - accuracy: 0.8262 - val_loss: 0.4109 - val_accuracy: 0.8220\n",
            "Epoch 4/10\n",
            "1198/1198 [==============================] - 5s 5ms/step - loss: 0.3940 - accuracy: 0.8313 - val_loss: 0.4244 - val_accuracy: 0.8203\n",
            "Epoch 5/10\n",
            "1198/1198 [==============================] - 5s 5ms/step - loss: 0.3886 - accuracy: 0.8332 - val_loss: 0.3991 - val_accuracy: 0.8266\n",
            "Epoch 6/10\n",
            "1198/1198 [==============================] - 5s 4ms/step - loss: 0.3826 - accuracy: 0.8363 - val_loss: 0.4074 - val_accuracy: 0.8170\n",
            "Epoch 7/10\n",
            "1198/1198 [==============================] - 5s 5ms/step - loss: 0.3805 - accuracy: 0.8381 - val_loss: 0.3919 - val_accuracy: 0.8312\n",
            "Epoch 8/10\n",
            "1198/1198 [==============================] - 5s 4ms/step - loss: 0.3758 - accuracy: 0.8401 - val_loss: 0.3928 - val_accuracy: 0.8323\n",
            "Epoch 9/10\n",
            "1198/1198 [==============================] - 5s 5ms/step - loss: 0.3746 - accuracy: 0.8416 - val_loss: 0.4065 - val_accuracy: 0.8281\n",
            "Epoch 10/10\n",
            "1198/1198 [==============================] - 5s 5ms/step - loss: 0.3713 - accuracy: 0.8420 - val_loss: 0.3781 - val_accuracy: 0.8373\n"
          ],
          "name": "stdout"
        },
        {
          "output_type": "execute_result",
          "data": {
            "text/plain": [
              "<tensorflow.python.keras.callbacks.History at 0x7f22eb3e38d0>"
            ]
          },
          "metadata": {
            "tags": []
          },
          "execution_count": 42
        }
      ]
    },
    {
      "cell_type": "markdown",
      "metadata": {
        "id": "3C4EYQQM1Qb_"
      },
      "source": [
        "#### Text Edition"
      ]
    },
    {
      "cell_type": "code",
      "metadata": {
        "id": "Zzle4qA31SXx",
        "colab": {
          "base_uri": "https://localhost:8080/",
          "height": 386
        },
        "outputId": "8b5bece1-3bf1-4569-dfab-1fe1d87661d5"
      },
      "source": [
        "text_x_train_cnn = text_x_train.reshape(len(text_x_train), 19, 19, 1)\n",
        "text_x_val_cnn = text_x_val.reshape(len(text_x_val), 19, 19, 1)\n",
        "\n",
        "text_x_train_cnn = text_x_train_cnn / MAX_NUM_WORDS_TEXT\n",
        "text_x_val_cnn = text_x_val_cnn / MAX_NUM_WORDS_TEXT\n",
        "\n",
        "CNN_text = Sequential()\n",
        "CNN_text.add(Conv2D(32, (3,3), padding='same', input_shape=(19, 19, 1), activation='relu'))\n",
        "CNN_text.add(MaxPooling2D(pool_size=(2,2)))\n",
        "CNN_text.add(Conv2D(8, (3,3), padding='same', activation='relu'))\n",
        "CNN_text.add(MaxPooling2D(pool_size=(2,2)))\n",
        "CNN_text.add(Flatten())\n",
        "CNN_text.add(Dense(64, activation='relu'))\n",
        "CNN_text.add(Dense(2, activation='softmax'))\n",
        "CNN_text.summary()"
      ],
      "execution_count": null,
      "outputs": [
        {
          "output_type": "stream",
          "text": [
            "Model: \"sequential_3\"\n",
            "_________________________________________________________________\n",
            "Layer (type)                 Output Shape              Param #   \n",
            "=================================================================\n",
            "conv2d_2 (Conv2D)            (None, 19, 19, 32)        320       \n",
            "_________________________________________________________________\n",
            "max_pooling2d_2 (MaxPooling2 (None, 9, 9, 32)          0         \n",
            "_________________________________________________________________\n",
            "conv2d_3 (Conv2D)            (None, 9, 9, 8)           2312      \n",
            "_________________________________________________________________\n",
            "max_pooling2d_3 (MaxPooling2 (None, 4, 4, 8)           0         \n",
            "_________________________________________________________________\n",
            "flatten_1 (Flatten)          (None, 128)               0         \n",
            "_________________________________________________________________\n",
            "dense_6 (Dense)              (None, 64)                8256      \n",
            "_________________________________________________________________\n",
            "dense_7 (Dense)              (None, 2)                 130       \n",
            "=================================================================\n",
            "Total params: 11,018\n",
            "Trainable params: 11,018\n",
            "Non-trainable params: 0\n",
            "_________________________________________________________________\n"
          ],
          "name": "stdout"
        }
      ]
    },
    {
      "cell_type": "code",
      "metadata": {
        "id": "jEzf1cNk1XjC",
        "colab": {
          "base_uri": "https://localhost:8080/",
          "height": 370
        },
        "outputId": "2b217dd5-1955-4064-df07-5d245ac6b8e2"
      },
      "source": [
        "CNN_text.compile(loss='binary_crossentropy', optimizer='adam', metrics=['accuracy'])\n",
        "CNN_text.fit(text_x_train_cnn, y_train, batch_size=30, epochs=10, validation_data=(text_x_val_cnn, y_val))"
      ],
      "execution_count": null,
      "outputs": [
        {
          "output_type": "stream",
          "text": [
            "Epoch 1/10\n",
            "1198/1198 [==============================] - 6s 5ms/step - loss: 0.6617 - accuracy: 0.5825 - val_loss: 0.6478 - val_accuracy: 0.6023\n",
            "Epoch 2/10\n",
            "1198/1198 [==============================] - 6s 5ms/step - loss: 0.6379 - accuracy: 0.6033 - val_loss: 0.6419 - val_accuracy: 0.6053\n",
            "Epoch 3/10\n",
            "1198/1198 [==============================] - 6s 5ms/step - loss: 0.6319 - accuracy: 0.6093 - val_loss: 0.6340 - val_accuracy: 0.6066\n",
            "Epoch 4/10\n",
            "1198/1198 [==============================] - 6s 5ms/step - loss: 0.6269 - accuracy: 0.6209 - val_loss: 0.6327 - val_accuracy: 0.6151\n",
            "Epoch 5/10\n",
            "1198/1198 [==============================] - 6s 5ms/step - loss: 0.6213 - accuracy: 0.6233 - val_loss: 0.6246 - val_accuracy: 0.6311\n",
            "Epoch 6/10\n",
            "1198/1198 [==============================] - 6s 5ms/step - loss: 0.6165 - accuracy: 0.6325 - val_loss: 0.6197 - val_accuracy: 0.6294\n",
            "Epoch 7/10\n",
            "1198/1198 [==============================] - 6s 5ms/step - loss: 0.6125 - accuracy: 0.6386 - val_loss: 0.6160 - val_accuracy: 0.6361\n",
            "Epoch 8/10\n",
            "1198/1198 [==============================] - 6s 5ms/step - loss: 0.6079 - accuracy: 0.6457 - val_loss: 0.6174 - val_accuracy: 0.6379\n",
            "Epoch 9/10\n",
            "1198/1198 [==============================] - 6s 5ms/step - loss: 0.6037 - accuracy: 0.6518 - val_loss: 0.6156 - val_accuracy: 0.6354\n",
            "Epoch 10/10\n",
            "1198/1198 [==============================] - 6s 5ms/step - loss: 0.5988 - accuracy: 0.6561 - val_loss: 0.6260 - val_accuracy: 0.6255\n"
          ],
          "name": "stdout"
        },
        {
          "output_type": "execute_result",
          "data": {
            "text/plain": [
              "<tensorflow.python.keras.callbacks.History at 0x7f22eb2453c8>"
            ]
          },
          "metadata": {
            "tags": []
          },
          "execution_count": 44
        }
      ]
    },
    {
      "cell_type": "markdown",
      "metadata": {
        "id": "QN9wVgLVbcv3"
      },
      "source": [
        "## 模型成果比較\n",
        "    為比較 標題版 vs. 內文版 / RNN vs. CNN 所以模型設定參數皆為相同(batch_size, epochs)。\n",
        "    所以準確率不好的模型將不會為了增加準確率而進行修正。"
      ]
    },
    {
      "cell_type": "markdown",
      "metadata": {
        "id": "jBUYddYRbeY1"
      },
      "source": [
        "    準確率\n",
        "                    acc   /  val_acc\n",
        "      RNN_標題  |  0.9877 /   0.9804\n",
        "      RNN_內文  |  0.9724 /   0.9531\n",
        "      CNN_標題  |  0.8475 /   0.8513\n",
        "      CNN_內文  |  0.6555 /   0.6242"
      ]
    },
    {
      "cell_type": "markdown",
      "metadata": {
        "id": "hm8ib5tLbeUz"
      },
      "source": [
        "    很明顯 RNN 準確率遠高於 CNN，說明 RNN 架構確實是更有利於學習有關語言和句子的問題。\n",
        "    而標題和內文的比較可以看出來，標題版的準確率都高過於內文版的準確率，這可能表示說標題相較內文有更能判斷是否為假消息的特性。\n",
        "    在下面測試真實數據時會有更明顯的差別。"
      ]
    },
    {
      "cell_type": "markdown",
      "metadata": {
        "id": "K8J8TUKG1dVd"
      },
      "source": [
        "# 測試\n",
        "    我們將套用先前的各種模型在我們蒐集的新聞集中(為100筆，50為真，50為假)。\n",
        "    假新聞是 Line 訊息查核平台的新聞，此網站的新聞為\"已查核訊息\"，也就是假訊息;而真新聞是由公視新聞得來。\n",
        "    蒐集來的中文資料經過 google translater 翻譯成英文後當作現實資料使用。"
      ]
    },
    {
      "cell_type": "code",
      "metadata": {
        "id": "MlKJ7jUP6v2T"
      },
      "source": [
        "LineNews = pd.read_csv('/content/drive/My Drive/datasets/LineNews.csv')\n",
        "PTSNews = pd.read_csv('/content/drive/My Drive/datasets/PTSNews.csv')"
      ],
      "execution_count": null,
      "outputs": []
    },
    {
      "cell_type": "markdown",
      "metadata": {
        "id": "o3ZbrJJgE8Xb"
      },
      "source": [
        "    定義一個函數來將兩個資料集的資料轉換成能使用 model 的型態。"
      ]
    },
    {
      "cell_type": "code",
      "metadata": {
        "id": "E4s8A2lq7AFX"
      },
      "source": [
        "def DataScrubbing(true, false): \n",
        "    \n",
        "    true['label'] = 'true'           #設定真假標籤\n",
        "    false['label'] = 'false'\n",
        "    data = pd.concat([true, false])  #結合兩個資料集\n",
        "    data = shuffle(data)             #打亂資料\n",
        "    \n",
        "    label_to_index = {'false':0, 'true':1}\n",
        "    y = data.label.apply(lambda x: label_to_index[x]) #真假標籤轉換成數字\n",
        "    y = np.array(y) #為了和模型預測出的結果對照，先轉換型態\n",
        "    \n",
        "    data_title = data.drop(labels=['text', 'label'], axis='columns') #標題版\n",
        "    data_text = data.drop(labels=['title', 'label'], axis='columns') #內文版\n",
        "\n",
        "    data_title['title_tokenized'] = data_title.loc[:, 'title'].apply(word_tokenize) #將句子切割成文字\n",
        "    data_text['text_tokenized'] = data_text.loc[:, 'text'].apply(word_tokenize)\n",
        "    \n",
        "    data_title_num = tokenizer_title.texts_to_sequences(data_title['title_tokenized']) #將切割完的文字轉換成數字\n",
        "    data_text_num = tokenizer_title.texts_to_sequences(data_text['text_tokenized'])\n",
        "    \n",
        "    data_title_num = tensorflow.keras.preprocessing.sequence.pad_sequences(data_title_num, maxlen=16) #每句取的字數(取法在後面說明)\n",
        "    data_text_num = tensorflow.keras.preprocessing.sequence.pad_sequences(data_text_num, maxlen=361)\n",
        "\n",
        "    data_title_cnn = data_title_num.reshape(len(data_title_num), 4, 4, 1) / 10000\n",
        "    data_text_cnn =  data_text_num.reshape(len(data_text_num), 19, 19, 1) / 20000\n",
        "\n",
        "    return data_title_num, data_text_num, y, data_title_cnn, data_text_cnn # output: 標題版 / 內文版 / 答案 / CNN標題版 / CNN內文版"
      ],
      "execution_count": null,
      "outputs": []
    },
    {
      "cell_type": "code",
      "metadata": {
        "id": "v-ZrjATe7CJ9"
      },
      "source": [
        "RealTitle_RNN, RealText_RNN, Answer, RealTitle_CNN, RealText_CNN = DataScrubbing(PTSNews, LineNews)"
      ],
      "execution_count": null,
      "outputs": []
    },
    {
      "cell_type": "markdown",
      "metadata": {
        "id": "5LU-WUypLyew"
      },
      "source": [
        "    字數取法 : \n",
        "        由於還有 CNN 模型，所以這裡取的數字皆為平方數，方便後面使用。\n",
        "        標題版的平均字數 = 12.15，這裡取 16 個字來做測試。\n",
        "        標題版的平均字數 = 344.2，這裡取 361 個字來做測試。\n",
        "    "
      ]
    },
    {
      "cell_type": "code",
      "metadata": {
        "id": "kg_QLXtVdb9k",
        "colab": {
          "base_uri": "https://localhost:8080/",
          "height": 106
        },
        "outputId": "a997fcd4-a3bd-4233-b879-8e5b728439fc"
      },
      "source": [
        "RealTitle_num = []\n",
        "RealText_num = []\n",
        "\n",
        "for i in range(0, 100): #100筆資料\n",
        "  RealTitle_num.append(len(RealTitle_RNN[i]))\n",
        "  RealText_num.append(len(RealText_RNN[i]))\n",
        "\n",
        "mean_num = [np.mean(RealTitle_num), np.mean(RealText_num)]\n",
        "mean_num = pd.DataFrame(mean_num, index=('標題版', '內文版'), columns=['平均字數'])\n",
        "\n",
        "max_num = [max(RealTitle_num), max(RealText_num)]\n",
        "max_num = pd.DataFrame(max_num, index=('標題版', '內文版'), columns=['最多字數'])\n",
        "\n",
        "median_num = [np.median(RealTitle_num), np.median(RealText_num)]\n",
        "median_num = pd.DataFrame(median_num, index=('標題版', '內文版'), columns=['中位數'])\n",
        "\n",
        "df = mean_num.join(max_num.join(median_num))\n",
        "df"
      ],
      "execution_count": null,
      "outputs": [
        {
          "output_type": "execute_result",
          "data": {
            "text/html": [
              "<div>\n",
              "<style scoped>\n",
              "    .dataframe tbody tr th:only-of-type {\n",
              "        vertical-align: middle;\n",
              "    }\n",
              "\n",
              "    .dataframe tbody tr th {\n",
              "        vertical-align: top;\n",
              "    }\n",
              "\n",
              "    .dataframe thead th {\n",
              "        text-align: right;\n",
              "    }\n",
              "</style>\n",
              "<table border=\"1\" class=\"dataframe\">\n",
              "  <thead>\n",
              "    <tr style=\"text-align: right;\">\n",
              "      <th></th>\n",
              "      <th>平均字數</th>\n",
              "      <th>最多字數</th>\n",
              "      <th>中位數</th>\n",
              "    </tr>\n",
              "  </thead>\n",
              "  <tbody>\n",
              "    <tr>\n",
              "      <th>標題版</th>\n",
              "      <td>16.0</td>\n",
              "      <td>16</td>\n",
              "      <td>16.0</td>\n",
              "    </tr>\n",
              "    <tr>\n",
              "      <th>內文版</th>\n",
              "      <td>361.0</td>\n",
              "      <td>361</td>\n",
              "      <td>361.0</td>\n",
              "    </tr>\n",
              "  </tbody>\n",
              "</table>\n",
              "</div>"
            ],
            "text/plain": [
              "      平均字數  最多字數    中位數\n",
              "標題版   16.0    16   16.0\n",
              "內文版  361.0   361  361.0"
            ]
          },
          "metadata": {
            "tags": []
          },
          "execution_count": 48
        }
      ]
    },
    {
      "cell_type": "markdown",
      "metadata": {
        "id": "3e4NvG0ZINxl"
      },
      "source": [
        "#### 各模型測試"
      ]
    },
    {
      "cell_type": "code",
      "metadata": {
        "id": "0MYytUkpBJ0U",
        "colab": {
          "base_uri": "https://localhost:8080/",
          "height": 87
        },
        "outputId": "d321ff43-73ad-4878-8fc0-ce7e3d401c3d"
      },
      "source": [
        "RNN_title_answer = RNN_title.predict_classes(RealTitle_RNN, batch_size=10)\n",
        "RNN_text_answer = RNN_text.predict_classes(RealText_RNN, batch_size=10)\n",
        "CNN_title_answer = CNN_title.predict_classes(RealTitle_CNN, batch_size=10)\n",
        "CNN_text_answer = CNN_text.predict_classes(RealText_CNN, batch_size=10)"
      ],
      "execution_count": null,
      "outputs": [
        {
          "output_type": "stream",
          "text": [
            "WARNING:tensorflow:From <ipython-input-49-ae3ea65b8f55>:1: Sequential.predict_classes (from tensorflow.python.keras.engine.sequential) is deprecated and will be removed after 2021-01-01.\n",
            "Instructions for updating:\n",
            "Please use instead:* `np.argmax(model.predict(x), axis=-1)`,   if your model does multi-class classification   (e.g. if it uses a `softmax` last-layer activation).* `(model.predict(x) > 0.5).astype(\"int32\")`,   if your model does binary classification   (e.g. if it uses a `sigmoid` last-layer activation).\n"
          ],
          "name": "stdout"
        }
      ]
    },
    {
      "cell_type": "code",
      "metadata": {
        "id": "CTRhL89daVNu"
      },
      "source": [
        "Total_ans = [RNN_title_answer, RNN_text_answer, CNN_title_answer, CNN_text_answer]\n",
        "Accuracy_ans = Total_ans - Answer"
      ],
      "execution_count": null,
      "outputs": []
    },
    {
      "cell_type": "markdown",
      "metadata": {
        "id": "zKfrw-qyakTn"
      },
      "source": [
        "    計算預測結果的準確率，由於模型輸出為 0 和 1，將預測出來的答案減去正確答案，非零的就是預測錯誤的。"
      ]
    },
    {
      "cell_type": "code",
      "metadata": {
        "id": "Rv_CKH09bJKH"
      },
      "source": [
        "Accuracy = []\n",
        "\n",
        "for j in range(0, 4):\n",
        "  error_amount = 0\n",
        "  for i in range(0, 100):\n",
        "    if Accuracy_ans[j][i] != 0:\n",
        "      error_amount += 1\n",
        "    else:\n",
        "      continue\n",
        "  Accuracy.append(error_amount)\n",
        "\n",
        "Accuracy = pd.DataFrame((100 - np.array(Accuracy)) / 100, columns=['Accuracy'])"
      ],
      "execution_count": null,
      "outputs": []
    },
    {
      "cell_type": "markdown",
      "metadata": {
        "id": "KmOCB2uaAyI5"
      },
      "source": [
        "    模型準確度"
      ]
    },
    {
      "cell_type": "code",
      "metadata": {
        "id": "x764s1EPbmGE",
        "colab": {
          "base_uri": "https://localhost:8080/",
          "height": 166
        },
        "outputId": "4a7d2980-14d5-4dda-cee2-dd2003ab7724"
      },
      "source": [
        "Accuracy['Models']=['RNN_title', 'RNN_text', 'CNN_title', 'CNN_text']\n",
        "Accuracy"
      ],
      "execution_count": null,
      "outputs": [
        {
          "output_type": "execute_result",
          "data": {
            "text/html": [
              "<div>\n",
              "<style scoped>\n",
              "    .dataframe tbody tr th:only-of-type {\n",
              "        vertical-align: middle;\n",
              "    }\n",
              "\n",
              "    .dataframe tbody tr th {\n",
              "        vertical-align: top;\n",
              "    }\n",
              "\n",
              "    .dataframe thead th {\n",
              "        text-align: right;\n",
              "    }\n",
              "</style>\n",
              "<table border=\"1\" class=\"dataframe\">\n",
              "  <thead>\n",
              "    <tr style=\"text-align: right;\">\n",
              "      <th></th>\n",
              "      <th>Accuracy</th>\n",
              "      <th>Models</th>\n",
              "    </tr>\n",
              "  </thead>\n",
              "  <tbody>\n",
              "    <tr>\n",
              "      <th>0</th>\n",
              "      <td>0.68</td>\n",
              "      <td>RNN_title</td>\n",
              "    </tr>\n",
              "    <tr>\n",
              "      <th>1</th>\n",
              "      <td>0.32</td>\n",
              "      <td>RNN_text</td>\n",
              "    </tr>\n",
              "    <tr>\n",
              "      <th>2</th>\n",
              "      <td>0.66</td>\n",
              "      <td>CNN_title</td>\n",
              "    </tr>\n",
              "    <tr>\n",
              "      <th>3</th>\n",
              "      <td>0.49</td>\n",
              "      <td>CNN_text</td>\n",
              "    </tr>\n",
              "  </tbody>\n",
              "</table>\n",
              "</div>"
            ],
            "text/plain": [
              "   Accuracy     Models\n",
              "0      0.68  RNN_title\n",
              "1      0.32   RNN_text\n",
              "2      0.66  CNN_title\n",
              "3      0.49   CNN_text"
            ]
          },
          "metadata": {
            "tags": []
          },
          "execution_count": 52
        }
      ]
    },
    {
      "cell_type": "code",
      "metadata": {
        "id": "VvCnNCAySWhN",
        "colab": {
          "base_uri": "https://localhost:8080/",
          "height": 335
        },
        "outputId": "e1221386-3201-46ec-9ad4-f8cad695e562"
      },
      "source": [
        "# 繪製準確率表\n",
        "plt.figure(figsize=(5,5))\n",
        "sns.barplot(x='Models',y='Accuracy',data=Accuracy)\n",
        "plt.show()"
      ],
      "execution_count": null,
      "outputs": [
        {
          "output_type": "display_data",
          "data": {
            "image/png": "[encoded data removed]",
            "text/plain": [
              "<Figure size 360x360 with 1 Axes>"
            ]
          },
          "metadata": {
            "tags": [],
            "needs_background": "light"
          }
        }
      ]
    },
    {
      "cell_type": "markdown",
      "metadata": {
        "id": "7kyZv4Ivph8b"
      },
      "source": [
        "    模型實用在真實資料時的表現遠低於預期，最高也只有70%，還有一些比用猜的機率還低，即使更改原本模型的字數設定也準確率沒有相對應的改善。\n",
        "    很有可能是真實資料本身的問題，以下列出設想可能影響準確率的問題:\n",
        "\n",
        "      1. 新聞種類 : \n",
        "          在資料整理的時候就可以看到原始資料大多數都是\"政治新聞\"居多，還有一些\"本土(美國)新聞\"；除了國際新聞可能有類似的內容外，絕大多數的新聞和我們採集的性質\n",
        "          都不同，更不用說我們新聞還是隨機選取的，沒有一定的分類，可能是時事、政治、地方新聞...，和原資料差異太大，訓練出的模型沒法適應，就不會有太好的精準度。\n",
        "\n",
        "      2. 標題撰寫 : \n",
        "          標題就是能透露出整個內文精華的一段話。在原始資料裡的標題字數平均和我們找的資料平均數差不多，分別為 13.9 和 12.15，差異不大。由於原始資料標題大多數都\n",
        "          是關於\"美國政治\"，而英美媒體在撰寫新聞稿時，標題時常需要用縮寫和忽略時態，還有既定架構；而我們的資料是由中文用 google 翻譯直翻英文，缺乏英文文句架構\n",
        "          也沒有既定形式；若模型在原始資料中找到了一些隱晦的模式類似於英美媒體撰寫的架構的話，在測試我們這邊的資料時，就不會展現出很好的成果。\n",
        "\n",
        "      3. 資料大小 : \n",
        "          我們自己只蒐集 100 筆資料而已，要用這 100 筆來說模型好壞是十分不精準的，沒辦法展示出他面對大量資料時的表現，只能看出一些較淺的問題，像基礎建構時\n",
        "          使用不同模型的優劣、標題內文對於判斷假新聞的準確度差異。\n",
        "\n",
        "      4. 內容 :\n",
        "          原始訓練資料大多數來字路透社、推特...等網站，不論在標題和內文部分，都夾雜著\"Reuters\"或是\"Twitter\"字眼，在資料處理時，我們並沒有將其處理掉，而將這些\n",
        "          字也當作訓練資料一同丟進模型當中訓練，所以訓練出的模型可能學到一些既定的形式，例如:出現\"Reuters\"的大部分都是真的、出現\"Twitter\"的大部分都是假的類似\n",
        "          這樣的潛在特徵。"
      ]
    },
    {
      "cell_type": "markdown",
      "metadata": {
        "id": "mSyawxnbTDVh"
      },
      "source": [
        "# 總結"
      ]
    },
    {
      "cell_type": "markdown",
      "metadata": {
        "id": "5hwZ-zv1jHC5"
      },
      "source": [
        "    雖然並沒有訓練出能夠實際應用在生活中的適用模型，但經由模型各自比較和測試真實資料的結果，我們發現從標題來判斷假新聞是比從內文判斷來的準確的。\n",
        "    這也跟現實相呼應，現在很多新聞的標題都誇張不實，擷取內容的各種\"強烈\"字眼來作為標題，來吸引讀者的眼睛，所以才會導致有那麼多標題殺人的事件發生。\n",
        "    在模型方面，我們不認為他訓練的不夠好，而是我們應該蒐集偏英美的新聞資料來進行測試，才能確實了解該模型的缺失，進一步改善模型。\n",
        "    而蒐集資料，也需要做好各方面的準備，包括:資料分類、各種類別的資料數量應維持適當平衡、取材來源應廣泛採納，以免專用一家新聞媒體的資料而學習到該媒體的一些淺在模式。"
      ]
    },
    {
      "cell_type": "markdown",
      "metadata": {
        "id": "bnCBQPzJQUXx"
      },
      "source": [
        "感謝收看:)"
      ]
    },
    {
      "cell_type": "code",
      "metadata": {
        "id": "wcqIfBSQzPui"
      },
      "source": [
        "# 避免使用到訓練用資料，這裡要取測試資料作為各類別分類的測試集\n",
        "q_x_train, q_x_val, q_y_train, q_y_val = train_test_split(data_copy, y, test_size=VALIDATION_RATIO, random_state=RANDOM_STATE)"
      ],
      "execution_count": null,
      "outputs": []
    },
    {
      "cell_type": "code",
      "metadata": {
        "id": "mw67rFclfEUF"
      },
      "source": [
        "def question_answer(name): #資料處理\n",
        "\n",
        "  name['title_tokenized'] = name.loc[:, 'title'].apply(word_tokenize)\n",
        "  name_title_num = tokenizer_title.texts_to_sequences(name['title_tokenized'])\n",
        "  name_title_num = tensorflow.keras.preprocessing.sequence.pad_sequences(name_title_num, maxlen=MAX_SEQUENCE_LEN_TITLE)\n",
        "  name_title_cnn =  name_title_num.reshape(len(name_title_num), 4, 4, 1) / 20000\n",
        "\n",
        "  CNN_answer = CNN_title.predict_classes(name_title_cnn, batch_size=10)\n",
        "  RNN_answer = RNN_title.predict_classes(name_title_num, batch_size=10)\n",
        "  \n",
        "  return CNN_answer, RNN_answer"
      ],
      "execution_count": null,
      "outputs": []
    },
    {
      "cell_type": "code",
      "metadata": {
        "id": "61b0NM4vkQyz"
      },
      "source": [
        "politicsNews = q_x_val[q_x_val['subject'] == 'politicsNews']\n",
        "worldnews = q_x_val[q_x_val['subject'] == 'worldnews']\n",
        "News = q_x_val[q_x_val['subject'] == 'News']\n",
        "politics = q_x_val[q_x_val['subject'] == 'politics']\n",
        "left_news = q_x_val[q_x_val['subject'] == 'left-news']\n",
        "GovernmentNews = q_x_val[q_x_val['subject'] == 'Government News']\n",
        "US_News = q_x_val[q_x_val['subject'] == 'US_News']\n",
        "Middle_east = q_x_val[q_x_val['subject'] == 'Middle-east']"
      ],
      "execution_count": null,
      "outputs": []
    },
    {
      "cell_type": "code",
      "metadata": {
        "id": "cRv86CqFg3cT",
        "colab": {
          "base_uri": "https://localhost:8080/",
          "height": 118
        },
        "outputId": "bc5defb4-0eb3-4709-df00-4db29405b20c"
      },
      "source": [
        "politicsNews_cnn, politicsNews_rnn = question_answer(politicsNews)\n",
        "worldnews_cnn, worldnews_rnn = question_answer(worldnews)\n",
        "News_cnn, News_rnn = question_answer(News)\n",
        "politics_cnn, politics_rnn = question_answer(politics)\n",
        "left_news_cnn, left_news_rnn = question_answer(left_news)\n",
        "GovernmentNews_cnn, GovernmentNews_rnn = question_answer(GovernmentNews)\n",
        "US_News_cnn, US_News_rnn = question_answer(US_News)\n",
        "Middle_east_cnn, Middle_east_rnn = question_answer(Middle_east)"
      ],
      "execution_count": null,
      "outputs": [
        {
          "output_type": "stream",
          "text": [
            "/usr/local/lib/python3.6/dist-packages/ipykernel_launcher.py:3: SettingWithCopyWarning: \n",
            "A value is trying to be set on a copy of a slice from a DataFrame.\n",
            "Try using .loc[row_indexer,col_indexer] = value instead\n",
            "\n",
            "See the caveats in the documentation: https://pandas.pydata.org/pandas-docs/stable/user_guide/indexing.html#returning-a-view-versus-a-copy\n",
            "  This is separate from the ipykernel package so we can avoid doing imports until\n"
          ],
          "name": "stderr"
        }
      ]
    },
    {
      "cell_type": "markdown",
      "metadata": {
        "id": "rMCeu1uPmFC2"
      },
      "source": [
        "    在True資料庫中出來的答案都是\"1\"，在False資料庫中出來的答案都是\"0\"。\n",
        "    模型預測出的結果:\n",
        "    1. True資料庫分類的總和，和整個資料數目的差距就是預測錯誤的數量。\n",
        "    2. False資料庫分類的總和，直接就是錯誤的數量。"
      ]
    },
    {
      "cell_type": "markdown",
      "metadata": {
        "id": "eoy5RvI7YVVD"
      },
      "source": [
        "### RNN\n",
        "    "
      ]
    },
    {
      "cell_type": "code",
      "metadata": {
        "id": "kPNHVUCxhvaq",
        "colab": {
          "base_uri": "https://localhost:8080/",
          "height": 34
        },
        "outputId": "be126e23-fddf-4a1a-8e30-1cf247a9d450"
      },
      "source": [
        "print(sum(politicsNews_rnn), sum(worldnews_rnn), sum(News_rnn), sum(politics_rnn), sum(left_news_rnn), sum(GovernmentNews_rnn),\n",
        "      sum(US_News_rnn), sum(Middle_east_rnn))"
      ],
      "execution_count": null,
      "outputs": [
        {
          "output_type": "stream",
          "text": [
            "2140 2040 67 16 3 3 5 4\n"
          ],
          "name": "stdout"
        }
      ]
    },
    {
      "cell_type": "code",
      "metadata": {
        "id": "zPWzQSKxjsSI",
        "colab": {
          "base_uri": "https://localhost:8080/",
          "height": 168
        },
        "outputId": "8f1d72be-b147-4959-b2a4-bbd4496349a1"
      },
      "source": [
        "q_x_val['subject'].value_counts() # 除了前面兩個分類是 True 資料庫蒐集的資料外都是 False 資料庫的資料。 "
      ],
      "execution_count": null,
      "outputs": [
        {
          "output_type": "execute_result",
          "data": {
            "text/plain": [
              "politicsNews       2208\n",
              "worldnews          2052\n",
              "News               1846\n",
              "politics           1363\n",
              "left-news           894\n",
              "Government News     297\n",
              "Middle-east         167\n",
              "US_News             153\n",
              "Name: subject, dtype: int64"
            ]
          },
          "metadata": {
            "tags": []
          },
          "execution_count": 76
        }
      ]
    },
    {
      "cell_type": "code",
      "metadata": {
        "id": "ztP4XVRylTQg"
      },
      "source": [
        "accuracy_rnn = [2140/2208, 2040/2052, 1-(67/1846), 1-(16/1363), 1-(3/894), 1-(3/297), 1-(5/167), 1-(4/153)]"
      ],
      "execution_count": null,
      "outputs": []
    },
    {
      "cell_type": "code",
      "metadata": {
        "id": "avPfJxcTzNqm",
        "colab": {
          "base_uri": "https://localhost:8080/",
          "height": 151
        },
        "outputId": "a48caede-31f0-443d-c2db-21b7ba50c661"
      },
      "source": [
        "accuracy_rnn"
      ],
      "execution_count": null,
      "outputs": [
        {
          "output_type": "execute_result",
          "data": {
            "text/plain": [
              "[0.9692028985507246,\n",
              " 0.9941520467836257,\n",
              " 0.9637053087757314,\n",
              " 0.9882611885546588,\n",
              " 0.9966442953020134,\n",
              " 0.98989898989899,\n",
              " 0.9700598802395209,\n",
              " 0.9738562091503268]"
            ]
          },
          "metadata": {
            "tags": []
          },
          "execution_count": 86
        }
      ]
    },
    {
      "cell_type": "code",
      "metadata": {
        "id": "16ILdIngyH1E",
        "colab": {
          "base_uri": "https://localhost:8080/",
          "height": 335
        },
        "outputId": "71e18a63-6c44-466b-82ec-d601e4b8b3ea"
      },
      "source": [
        "# RNN\n",
        "Accuracy = pd.DataFrame((accuracy_rnn), columns=['Accuracy'])\n",
        "Accuracy['Subjects']=['politicsNews', 'worldnews', 'News', 'politics', 'left-news', 'Government News', 'Middle-east', 'US_News']\n",
        "\n",
        "plt.figure(figsize=(15,5))\n",
        "sns.barplot(x='Subjects',y='Accuracy',data=Accuracy)\n",
        "plt.show()"
      ],
      "execution_count": null,
      "outputs": [
        {
          "output_type": "display_data",
          "data": {
            "image/png": "[encoded data removed]",
            "text/plain": [
              "<Figure size 1080x360 with 1 Axes>"
            ]
          },
          "metadata": {
            "tags": [],
            "needs_background": "light"
          }
        }
      ]
    },
    {
      "cell_type": "markdown",
      "metadata": {
        "id": "pXLZcIlMYbYL"
      },
      "source": [
        "### CNN"
      ]
    },
    {
      "cell_type": "code",
      "metadata": {
        "id": "8a9JFNcOXuMT",
        "colab": {
          "base_uri": "https://localhost:8080/",
          "height": 34
        },
        "outputId": "22512e40-4564-4acb-a6a9-3fa5bff988f3"
      },
      "source": [
        "print(sum(politicsNews_cnn), sum(worldnews_cnn), sum(News_cnn), sum(politics_cnn), sum(left_news_cnn), sum(GovernmentNews_cnn),\n",
        "      sum(US_News_cnn), sum(Middle_east_cnn))"
      ],
      "execution_count": null,
      "outputs": [
        {
          "output_type": "stream",
          "text": [
            "1972 1798 506 186 107 56 83 90\n"
          ],
          "name": "stdout"
        }
      ]
    },
    {
      "cell_type": "code",
      "metadata": {
        "id": "n0EVgYs4X-EA"
      },
      "source": [
        "accuracy_cnn = [1972/2208, 1798/2052, 1-(506/1846), 1-(186/1363), 1-(107/894), 1-(56/297), 1-(83/167), 1-(90/153)]"
      ],
      "execution_count": null,
      "outputs": []
    },
    {
      "cell_type": "code",
      "metadata": {
        "id": "AtBg1ooLXiu7",
        "colab": {
          "base_uri": "https://localhost:8080/",
          "height": 335
        },
        "outputId": "37f9bc07-9f2d-4c6a-e372-77da68b5dbef"
      },
      "source": [
        "# CNN\n",
        "Accuracy = pd.DataFrame((accuracy_cnn), columns=['Accuracy'])\n",
        "Accuracy['Subjects']=['politicsNews', 'worldnews', 'News', 'politics', 'left-news', 'Government News', 'Middle-east', 'US_News']\n",
        "\n",
        "plt.figure(figsize=(15,5))\n",
        "sns.barplot(x='Subjects',y='Accuracy',data=Accuracy)\n",
        "plt.show()"
      ],
      "execution_count": null,
      "outputs": [
        {
          "output_type": "display_data",
          "data": {
            "image/png": "[encoded data removed]",
            "text/plain": [
              "<Figure size 1080x360 with 1 Axes>"
            ]
          },
          "metadata": {
            "tags": [],
            "needs_background": "light"
          }
        }
      ]
    },
    {
      "cell_type": "markdown",
      "metadata": {
        "id": "N9IyomK4yJU-"
      },
      "source": [
        "## 問題 : 解釋模型在各種類別主題上的分辨率\n",
        "    由於這些資料都是資料庫中本身的，與訓練資料一定有相似的模式。\n",
        "    在RNN模型上的表現是很好的，各分類的準確率都很高，沒有特別明顯的差距。\n",
        "    而在CNN模型上，平均準確率較低，在特定新聞的分辨率是很差的，我們認為可能原因可能是:\n",
        "      1.模型訓練不足 2.資料量太少(Middle-east / US_News)。\n",
        "    從CNN模型的預測結果可以看出來，politicsNews / politics / left-news / Government News...等政治方面的準確度是相對高的，相對資料量也大，但這也可能\n",
        "    讓模型學習到的東西偏向了這個方面，導致其他方面 Middle-east / US_News 這些資料量小的分類效果就不是很優秀。\n",
        "    結果明顯可以看出對於語言的理解，RNN的模型架構是比CNN來的適合許多。\n"
      ]
    },
    {
      "cell_type": "code",
      "metadata": {
        "id": "lVA9grzUz73m"
      },
      "source": [
        ""
      ],
      "execution_count": null,
      "outputs": []
    }
  ]
}